{
 "cells": [
  {
   "cell_type": "code",
   "execution_count": 11,
   "metadata": {},
   "outputs": [],
   "source": [
    "from sqlalchemy import create_engine\n",
    "from sqlalchemy import text\n",
    "from sqlalchemy import bindparam\n",
    "import pandas as pd\n",
    "import json"
   ]
  },
  {
   "cell_type": "code",
   "execution_count": 6,
   "metadata": {},
   "outputs": [],
   "source": [
    "with open('settings.json', 'r') as file:\n",
    "    dados_banco = json.load(file)\n",
    "DB_CONNECTOR = dados_banco['DB_CONNECTOR']"
   ]
  },
  {
   "cell_type": "code",
   "execution_count": 4,
   "metadata": {},
   "outputs": [],
   "source": [
    "teste = (DB_CONNECTOR)"
   ]
  },
  {
   "cell_type": "code",
   "execution_count": null,
   "metadata": {},
   "outputs": [],
   "source": [
    "teste._conect_of()"
   ]
  },
  {
   "cell_type": "code",
   "execution_count": 40,
   "metadata": {},
   "outputs": [],
   "source": [
    "list_id01 = '4f3452ae-87d4-4a5f-9532-c7634da2cff0'\n",
    "list_id02 = '70e6c800-7583-485d-ac9f-9c42c48dd785'\n",
    "list_id03 = '42d5c4ad-7b44-4e4e-b2e5-2997785132c8'\n",
    "\n",
    "list_id13 = '93cd33c4-109a-401e-87e9-e26ff5929d37'\n",
    "list_id14 = 'c4d09d1b-73a5-45c6-8a0d-ead669114b65'\n",
    "list_id15 = '1551e3ed-c875-4bb3-8e4e-58407df40776'\n",
    "\n",
    "lists_iniciais = [list_id01,list_id02,list_id03]\n",
    "listas_finais = [list_id13,list_id14,list_id15]"
   ]
  }
 ],
 "metadata": {
  "kernelspec": {
   "display_name": "base",
   "language": "python",
   "name": "python3"
  },
  "language_info": {
   "codemirror_mode": {
    "name": "ipython",
    "version": 3
   },
   "file_extension": ".py",
   "mimetype": "text/x-python",
   "name": "python",
   "nbconvert_exporter": "python",
   "pygments_lexer": "ipython3",
   "version": "3.11.7"
  }
 },
 "nbformat": 4,
 "nbformat_minor": 2
}
